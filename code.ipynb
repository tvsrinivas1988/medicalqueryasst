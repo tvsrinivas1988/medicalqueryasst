{
 "cells": [
  {
   "cell_type": "code",
   "execution_count": null,
   "id": "c1e57ea5",
   "metadata": {},
   "outputs": [],
   "source": [
    "import requests\n",
    "import json\n",
    "import csv\n",
    "import time\n",
    "\n",
    "def fetch_fda_label_efficacy(drug_name):\n",
    "    url = \"https://api.fda.gov/drug/label.json\"\n",
    "    params = {\n",
    "        \"search\": f'openfda.generic_name:\"{drug_name}\"',\n",
    "        \"limit\": 1\n",
    "    }\n",
    "\n",
    "    try:\n",
    "        response = requests.get(url, params=params, timeout=10)\n",
    "        response.raise_for_status()\n",
    "        data = response.json()\n",
    "\n",
    "        if \"results\" not in data:\n",
    "            return {\"drug_name\": drug_name, \"error\": \"No results found\"}\n",
    "\n",
    "        result = data[\"results\"][0]\n",
    "        return {\n",
    "            \"drug_name\": drug_name,\n",
    "            \"indications_and_usage\": result.get(\"indications_and_usage\", [\"Not available\"])[0][:1000],\n",
    "            \"clinical_studies\": result.get(\"clinical_studies\", [\"Not available\"])[0][:1000],\n",
    "            \"dosage_and_administration\": result.get(\"dosage_and_administration\", [\"Not available\"])[0][:1000],\n",
    "            \"warnings_and_cautions\": result.get(\"warnings_and_cautions\", [\"Not available\"])[0][:1000],\n",
    "            \"contraindications\": result.get(\"contraindications\", [\"Not available\"])[0][:1000],\n",
    "            \"pregnancy\": result.get(\"pregnancy\", [\"Not available\"])[0][:1000],\n",
    "            \"pediatric_use\": result.get(\"pediatric_use\", [\"Not available\"])[0][:1000],\n",
    "            \"geriatric_use\": result.get(\"geriatric_use\", [\"Not available\"])[0][:1000],\n",
    "        }\n",
    "\n",
    "    except Exception as e:\n",
    "        return {\"drug_name\": drug_name, \"error\": str(e)}\n",
    "\n",
    "# 🔢 List of 100 common generic drugs\n",
    "drug_list = [\n",
    "    \"acetaminophen\", \"albuterol\", \"alprazolam\", \"amitriptyline\", \"amlodipine\", \"amoxicillin\", \"atorvastatin\",\n",
    "    \"azithromycin\", \"benazepril\", \"bisoprolol\", \"bupropion\", \"buspirone\", \"carvedilol\", \"cephalexin\", \"ciprofloxacin\",\n",
    "    \"citalopram\", \"clindamycin\", \"clonazepam\", \"clonidine\", \"clopidogrel\", \"cyclobenzaprine\", \"dexamethasone\",\n",
    "    \"diazepam\", \"diclofenac\", \"dicyclomine\", \"digoxin\", \"diltiazem\", \"diphenhydramine\", \"divalproex\", \"donepezil\",\n",
    "    \"doxycycline\", \"enalapril\", \"escitalopram\", \"esomeprazole\", \"famotidine\", \"fentanyl\", \"ferrous sulfate\",\n",
    "    \"fluconazole\", \"fluoxetine\", \"fluticasone\", \"furosemide\", \"gabapentin\", \"glipizide\", \"glyburide\", \"guaifenesin\",\n",
    "    \"haloperidol\", \"hydralazine\", \"hydrochlorothiazide\", \"hydrocodone\", \"hydroxyzine\", \"ibuprofen\", \"insulin glargine\",\n",
    "    \"ipratropium\", \"irbesartan\", \"isosorbide\", \"ketoconazole\", \"lamotrigine\", \"lansoprazole\", \"lisinopril\",\n",
    "    \"loratadine\", \"lorazepam\", \"losartan\", \"lovastatin\", \"meloxicam\", \"metformin\", \"methocarbamol\", \"methotrexate\",\n",
    "    \"methylprednisolone\", \"metoprolol\", \"metronidazole\", \"montelukast\", \"morphine\", \"naproxen\", \"nitrofurantoin\",\n",
    "    \"nitroglycerin\", \"nortriptyline\", \"omeprazole\", \"ondansetron\", \"oxycodone\", \"pantoprazole\", \"paroxetine\",\n",
    "    \"penicillin\", \"phenobarbital\", \"phenytoin\", \"pioglitazone\", \"pravastatin\", \"prednisone\", \"pregabalin\",\n",
    "    \"propranolol\", \"quetiapine\", \"ranitidine\", \"risperidone\", \"rosuvastatin\", \"sertraline\", \"simvastatin\",\n",
    "    \"sulfamethoxazole\", \"sumatriptan\", \"tamsulosin\", \"temazepam\", \"topiramate\", \"tramadol\", \"trazodone\", \"valacyclovir\",\n",
    "    \"valsartan\", \"venlafaxine\", \"warfarin\", \"zolpidem\"\n",
    "]\n",
    "\n",
    "results = []\n",
    "for i, drug in enumerate(drug_list):\n",
    "    print(f\"[{i+1}/{len(drug_list)}] Fetching: {drug}\")\n",
    "    data = fetch_fda_label_efficacy(drug)\n",
    "    results.append(data)\n",
    "    time.sleep(1)  # Respect OpenFDA rate limits\n",
    "\n",
    "# 💾 Save as JSON\n",
    "with open(\"drug_efficacy_data.json\", \"w\") as f:\n",
    "    json.dump(results, f, indent=2)\n",
    "\n",
    "# 💾 Save as CSV\n",
    "with open(\"drug_efficacy_data.csv\", \"w\", newline='', encoding='utf-8') as f:\n",
    "    fieldnames = [\"drug_name\", \"indications_and_usage\", \"clinical_studies\", \"dosage_and_administration\",\"warnings_and_cautions\",\n",
    "    \"contraindications\",\"pregnancy\",\"pediatric_use\",\"geriatric_use\",\"error\"]\n",
    "    writer = csv.DictWriter(f, fieldnames=fieldnames)\n",
    "    writer.writeheader()\n",
    "    for row in results:\n",
    "        writer.writerow({\n",
    "            \"drug_name\": row.get(\"drug_name\"),\n",
    "            \"indications_and_usage\": row.get(\"indications_and_usage\", \"\"),\n",
    "            \"clinical_studies\": row.get(\"clinical_studies\", \"\"),\n",
    "            \"dosage_and_administration\": row.get(\"dosage_and_administration\", \"\"),\n",
    "            \"warnings_and_cautions\": row.get(\"warnings_and_cautions\", \"\"),\n",
    "            \"contraindications\": row.get(\"contraindications\", \"\"),\n",
    "            \"pregnancy\": row.get(\"pregnancy\", \"\"),\n",
    "            \"pediatric_use\": row.get(\"pediatric_use\", \"\"),\n",
    "            \"geriatric_use\": row.get(\"geriatric_use\", \"\"),\n",
    "            \"error\": row.get(\"error\", \"\")\n",
    "        })\n",
    "\n",
    "print(\"✅ Done! Data saved to drug_efficacy_data.json and drug_efficacy_data.csv\")\n"
   ]
  },
  {
   "cell_type": "code",
   "execution_count": null,
   "id": "ac91c750",
   "metadata": {},
   "outputs": [],
   "source": [
    "import os\n",
    "from dotenv import load_dotenv\n",
    "load_dotenv()"
   ]
  },
  {
   "cell_type": "code",
   "execution_count": null,
   "id": "16382dc3",
   "metadata": {},
   "outputs": [],
   "source": [
    "os.environ[\"GROQ_API_KEY\"] = os.getenv(\"GROQ_API_KEY\")\n",
    "os.environ[\"LANGSMITH_API_KEY\"] = os.getenv(\"LANGSMITH_API_KEY\")\n",
    "os.environ[\"LANGSMITH_PROJECT\"] = os.getenv(\"LANGSMITH_PROJECT\")\n",
    "os.environ[\"LANGSMITH_TRACING_V2\"] = os.getenv(\"LANGSMITH_TRACING_V2\")\n",
    "os.environ[\"LANGSMITH_PROJECT\"] = os.getenv(\"LANGSMITH_PROJECT\")"
   ]
  },
  {
   "cell_type": "code",
   "execution_count": null,
   "id": "4d02347f",
   "metadata": {},
   "outputs": [],
   "source": [
    "##Test Groq Connection\n",
    "from langchain_groq import ChatGroq\n",
    "llm = ChatGroq(\n",
    "    model=\"deepseek-r1-distill-llama-70b\",\n",
    "    temperature=0,\n",
    "    max_tokens=None,\n",
    "    reasoning_format=\"parsed\",\n",
    "    timeout=None,\n",
    "    max_retries=2)\n",
    "    \n"
   ]
  },
  {
   "cell_type": "code",
   "execution_count": null,
   "id": "fa323e3d",
   "metadata": {},
   "outputs": [],
   "source": [
    "from langchain_core.prompts import ChatPromptTemplate\n",
    "prompt = ChatPromptTemplate.from_messages(\n",
    "    [\n",
    "        (\"system\",\"You are a helpful translator that translates from {language1} to {language2}.\",),\n",
    "        (\"human\",\"{input}\"),\n",
    "\n",
    "\n",
    "\n",
    "    ]\n",
    ")"
   ]
  },
  {
   "cell_type": "code",
   "execution_count": null,
   "id": "133a13b6",
   "metadata": {},
   "outputs": [],
   "source": [
    "chain = prompt|llm\n",
    "chain.invoke(\n",
    "    {\n",
    "        \"language1\" : \"English\",\n",
    "        \"language2\" : \"Dutch\",\n",
    "        \"input\" : \"This is trnslation using llm.\",\n",
    "\n",
    "    }\n",
    ")"
   ]
  },
  {
   "cell_type": "markdown",
   "id": "1f7f079c",
   "metadata": {},
   "source": [
    "Creating a Document loader to load the product label json Data"
   ]
  },
  {
   "cell_type": "code",
   "execution_count": null,
   "id": "d2b822ef",
   "metadata": {},
   "outputs": [],
   "source": [
    "from langchain_community.document_loaders import JSONLoader\n",
    "loader=JSONLoader(file_path=\"./drug_efficacy_data.json\",\n",
    "                jq_schema=\".[]\",\n",
    "                text_content=False\n",
    "                )"
   ]
  },
  {
   "cell_type": "code",
   "execution_count": null,
   "id": "37130743",
   "metadata": {},
   "outputs": [],
   "source": [
    "document = loader.load()"
   ]
  },
  {
   "cell_type": "markdown",
   "id": "6e4c7e2a",
   "metadata": {},
   "source": [
    "Verifying Sample Data"
   ]
  },
  {
   "cell_type": "code",
   "execution_count": null,
   "id": "9e07813b",
   "metadata": {},
   "outputs": [],
   "source": [
    "document[0]"
   ]
  },
  {
   "cell_type": "code",
   "execution_count": null,
   "id": "36ae1014",
   "metadata": {},
   "outputs": [],
   "source": [
    "print(document[0].metadata)"
   ]
  },
  {
   "cell_type": "markdown",
   "id": "53d4b6f6",
   "metadata": {},
   "source": [
    "Now as a next step , splitting the document into multiple  pages using text splitter"
   ]
  },
  {
   "cell_type": "code",
   "execution_count": null,
   "metadata": {},
   "outputs": [],
   "source": [
    "from langchain_text_splitters import RecursiveCharacterTextSplitter\n",
    "text_splitter = RecursiveCharacterTextSplitter(chunk_size=500, chunk_overlap=50)\n",
    "pages=text_splitter.split_documents(document)"
   ]
  },
  {
   "cell_type": "code",
   "execution_count": null,
   "id": "4429b758",
   "metadata": {},
   "outputs": [],
   "source": [
    "len(pages)"
   ]
  },
  {
   "cell_type": "code",
   "execution_count": null,
   "id": "c288660d",
   "metadata": {},
   "outputs": [],
   "source": [
    "os.environ[\"NOMIC_API_KEY\"] = os.getenv(\"NOMIC_API_KEY\")"
   ]
  },
  {
   "cell_type": "code",
   "execution_count": null,
   "id": "b5240cee",
   "metadata": {},
   "outputs": [],
   "source": [
    "from langchain_nomic import NomicEmbeddings\n",
    "embeddings=NomicEmbeddings(model=\"nomic-embed-text-v1.5\",dimensionality=350)"
   ]
  },
  {
   "cell_type": "code",
   "execution_count": null,
   "id": "0c981732",
   "metadata": {},
   "outputs": [],
   "source": [
    "from pinecone import Pinecone\n"
   ]
  },
  {
   "cell_type": "code",
   "execution_count": null,
   "id": "4bf73b10",
   "metadata": {},
   "outputs": [],
   "source": [
    "os.environ[\"PINECONE_API_KEY\"] = os.getenv(\"PINECONE_API_KEY\")"
   ]
  },
  {
   "cell_type": "code",
   "execution_count": null,
   "id": "7c303b12",
   "metadata": {},
   "outputs": [],
   "source": [
    "pc=Pinecone(api_key=os.getenv(\"PINECONE_API_KEY\"))"
   ]
  },
  {
   "cell_type": "code",
   "execution_count": null,
   "id": "a252fa78",
   "metadata": {},
   "outputs": [],
   "source": [
    "from pinecone import ServerlessSpec"
   ]
  },
  {
   "cell_type": "code",
   "execution_count": null,
   "id": "32035cf1",
   "metadata": {},
   "outputs": [],
   "source": [
    "index_name =\"medicalqueryasst\"\n",
    "\n",
    "if  pc.has_index(index_name):\n",
    "    pc.delete_index(index_name)\n",
    "    pc.create_index(\n",
    "        name=index_name,\n",
    "        dimension=350,\n",
    "        metric=\"cosine\",\n",
    "        spec=ServerlessSpec(cloud=\"aws\",region=\"us-east-1\") \n",
    ")"
   ]
  },
  {
   "cell_type": "code",
   "execution_count": null,
   "id": "f632b6d5",
   "metadata": {},
   "outputs": [],
   "source": [
    "index=pc.Index(index_name)"
   ]
  },
  {
   "cell_type": "code",
   "execution_count": null,
   "id": "259b93bf",
   "metadata": {},
   "outputs": [],
   "source": [
    "from uuid import uuid4\n",
    "uuids = [str(uuid4()) for _ in range(len(pages))]"
   ]
  },
  {
   "cell_type": "code",
   "execution_count": null,
   "id": "2eaa0431",
   "metadata": {},
   "outputs": [],
   "source": [
    "from langchain_pinecone import PineconeVectorStore"
   ]
  },
  {
   "cell_type": "code",
   "execution_count": null,
   "id": "a8fde898",
   "metadata": {},
   "outputs": [],
   "source": [
    "vector_store=PineconeVectorStore(index=index,embedding=embeddings)"
   ]
  },
  {
   "cell_type": "code",
   "execution_count": null,
   "id": "5d12950d",
   "metadata": {},
   "outputs": [],
   "source": [
    "vector_store.add_documents(documents=pages, ids=uuids)"
   ]
  },
  {
   "cell_type": "code",
   "execution_count": null,
   "id": "4537e88a",
   "metadata": {},
   "outputs": [],
   "source": [
    "results = vector_store.similarity_search(\"what is acetaminophen?\",k=3)"
   ]
  },
  {
   "cell_type": "code",
   "execution_count": null,
   "id": "d52f0998",
   "metadata": {},
   "outputs": [],
   "source": [
    "results"
   ]
  },
  {
   "cell_type": "code",
   "execution_count": null,
   "id": "c03bf0d8",
   "metadata": {},
   "outputs": [],
   "source": [
    "results1 = vector_store.similarity_search(\"what is acetaminophen?\",filter={\"drug_name\": \"acetaminophen\"})\n",
    "print(results1)"
   ]
  },
  {
   "cell_type": "code",
   "execution_count": null,
   "id": "61c50c9e",
   "metadata": {},
   "outputs": [],
   "source": [
    "retriever=vector_store.as_retriever(\n",
    "    search_type=\"similarity_score_threshold\",\n",
    "    search_kwargs={\"score_threshold\": 0.7} #hyperparameter\n",
    ")"
   ]
  },
  {
   "cell_type": "code",
   "execution_count": null,
   "id": "b1e00179",
   "metadata": {},
   "outputs": [],
   "source": [
    "retriever.invoke(\"acetaminophen\")"
   ]
  },
  {
   "cell_type": "code",
   "execution_count": null,
   "id": "1a8c5177",
   "metadata": {},
   "outputs": [],
   "source": [
    "from langchain_groq import ChatGroq\n",
    "llm = ChatGroq(\n",
    "    model=\"deepseek-r1-distill-llama-70b\",\n",
    "    temperature=0,\n",
    "    max_tokens=None,\n",
    "    reasoning_format=\"parsed\",\n",
    "    timeout=None,\n",
    "    max_retries=2)"
   ]
  },
  {
   "cell_type": "code",
   "execution_count": null,
   "id": "98965b1c",
   "metadata": {},
   "outputs": [],
   "source": [
    "from langchain import hub\n",
    "prompt = hub.pull(\"rlm/rag-prompt\")"
   ]
  },
  {
   "cell_type": "code",
   "execution_count": null,
   "id": "1e580ec8",
   "metadata": {},
   "outputs": [],
   "source": [
    "import pprint\n",
    "pprint.pprint(prompt.messages)"
   ]
  },
  {
   "cell_type": "code",
   "execution_count": null,
   "id": "267434bc",
   "metadata": {},
   "outputs": [],
   "source": [
    "from langchain_core.output_parsers import StrOutputParser\n",
    "from langchain_core.runnables import RunnablePassthrough"
   ]
  },
  {
   "cell_type": "code",
   "execution_count": null,
   "id": "ad53e56f",
   "metadata": {},
   "outputs": [],
   "source": [
    "def format_docs(docs):\n",
    "    return \"\\n\\n\".join(doc.page_content for doc in docs)"
   ]
  },
  {
   "cell_type": "code",
   "execution_count": null,
   "id": "587a9945",
   "metadata": {},
   "outputs": [],
   "source": [
    "rag_chain = (\n",
    "    {\"context\": retriever | format_docs, \"question\": RunnablePassthrough()}\n",
    "    | prompt\n",
    "    | llm\n",
    "    | StrOutputParser()\n",
    ")"
   ]
  },
  {
   "cell_type": "code",
   "execution_count": null,
   "id": "d081ae4d",
   "metadata": {},
   "outputs": [],
   "source": [
    "rag_chain.invoke(\"tell me about dosage  of acetaminophen\")"
   ]
  },
  {
   "cell_type": "code",
   "execution_count": null,
   "id": "3e88f8f7",
   "metadata": {},
   "outputs": [],
   "source": [
    "rag_chain.invoke(\"what is fentanyl?\")"
   ]
  },
  {
   "cell_type": "code",
   "execution_count": null,
   "id": "647f1436",
   "metadata": {},
   "outputs": [],
   "source": [
    "rag_chain.invoke(\"what are the side effects of fentanyl?\")"
   ]
  },
  {
   "cell_type": "code",
   "execution_count": null,
   "metadata": {},
   "outputs": [],
   "source": [
    "rag_chain.invoke(\"Are there any clinical studies on fluoxetine?\")"
   ]
  },
  {
   "cell_type": "code",
   "execution_count": null,
   "id": "c3ff5e49",
   "metadata": {},
   "outputs": [],
   "source": []
  },
  {
   "cell_type": "code",
   "execution_count": null,
   "id": "d2b4282b",
   "metadata": {},
   "outputs": [],
   "source": []
  },
  {
   "cell_type": "code",
   "execution_count": null,
   "id": "202132c2",
   "metadata": {},
   "outputs": [],
   "source": []
  },
  {
   "cell_type": "code",
   "execution_count": null,
   "id": "7df8600a",
   "metadata": {},
   "outputs": [],
   "source": []
  }
 ],
 "metadata": {
  "kernelspec": {
   "display_name": "Python 3",
   "language": "python",
   "name": "python3"
  },
  "language_info": {
   "codemirror_mode": {
    "name": "ipython",
    "version": 3
   },
   "file_extension": ".py",
   "mimetype": "text/x-python",
   "name": "python",
   "nbconvert_exporter": "python",
   "pygments_lexer": "ipython3",
   "version": "3.12.0"
  }
 },
 "nbformat": 4,
 "nbformat_minor": 5
}
