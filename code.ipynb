{
 "cells": [
  {
   "cell_type": "code",
   "execution_count": null,
   "id": "c1e57ea5",
   "metadata": {},
   "outputs": [],
   "source": [
    "import requests\n",
    "import json\n",
    "import csv\n",
    "import time\n",
    "\n",
    "def fetch_fda_label_efficacy(drug_name):\n",
    "    url = \"https://api.fda.gov/drug/label.json\"\n",
    "    params = {\n",
    "        \"search\": f'openfda.generic_name:\"{drug_name}\"',\n",
    "        \"limit\": 1\n",
    "    }\n",
    "\n",
    "    try:\n",
    "        response = requests.get(url, params=params, timeout=10)\n",
    "        response.raise_for_status()\n",
    "        data = response.json()\n",
    "\n",
    "        if \"results\" not in data:\n",
    "            return {\"drug_name\": drug_name, \"error\": \"No results found\"}\n",
    "\n",
    "        result = data[\"results\"][0]\n",
    "        return {\n",
    "            \"drug_name\": drug_name,\n",
    "            \"indications_and_usage\": result.get(\"indications_and_usage\", [\"Not available\"])[0][:1000],\n",
    "            \"clinical_studies\": result.get(\"clinical_studies\", [\"Not available\"])[0][:1000],\n",
    "            \"dosage_and_administration\": result.get(\"dosage_and_administration\", [\"Not available\"])[0][:1000],\n",
    "            \"warnings_and_cautions\": result.get(\"warnings_and_cautions\", [\"Not available\"])[0][:1000],\n",
    "            \"contraindications\": result.get(\"contraindications\", [\"Not available\"])[0][:1000],\n",
    "            \"pregnancy\": result.get(\"pregnancy\", [\"Not available\"])[0][:1000],\n",
    "            \"pediatric_use\": result.get(\"pediatric_use\", [\"Not available\"])[0][:1000],\n",
    "            \"geriatric_use\": result.get(\"geriatric_use\", [\"Not available\"])[0][:1000],\n",
    "        }\n",
    "\n",
    "    except Exception as e:\n",
    "        return {\"drug_name\": drug_name, \"error\": str(e)}\n",
    "\n",
    "# 🔢 List of 100 common generic drugs\n",
    "drug_list = [\n",
    "    \"acetaminophen\", \"albuterol\", \"alprazolam\", \"amitriptyline\", \"amlodipine\", \"amoxicillin\", \"atorvastatin\",\n",
    "    \"azithromycin\", \"benazepril\", \"bisoprolol\", \"bupropion\", \"buspirone\", \"carvedilol\", \"cephalexin\", \"ciprofloxacin\",\n",
    "    \"citalopram\", \"clindamycin\", \"clonazepam\", \"clonidine\", \"clopidogrel\", \"cyclobenzaprine\", \"dexamethasone\",\n",
    "    \"diazepam\", \"diclofenac\", \"dicyclomine\", \"digoxin\", \"diltiazem\", \"diphenhydramine\", \"divalproex\", \"donepezil\",\n",
    "    \"doxycycline\", \"enalapril\", \"escitalopram\", \"esomeprazole\", \"famotidine\", \"fentanyl\", \"ferrous sulfate\",\n",
    "    \"fluconazole\", \"fluoxetine\", \"fluticasone\", \"furosemide\", \"gabapentin\", \"glipizide\", \"glyburide\", \"guaifenesin\",\n",
    "    \"haloperidol\", \"hydralazine\", \"hydrochlorothiazide\", \"hydrocodone\", \"hydroxyzine\", \"ibuprofen\", \"insulin glargine\",\n",
    "    \"ipratropium\", \"irbesartan\", \"isosorbide\", \"ketoconazole\", \"lamotrigine\", \"lansoprazole\", \"lisinopril\",\n",
    "    \"loratadine\", \"lorazepam\", \"losartan\", \"lovastatin\", \"meloxicam\", \"metformin\", \"methocarbamol\", \"methotrexate\",\n",
    "    \"methylprednisolone\", \"metoprolol\", \"metronidazole\", \"montelukast\", \"morphine\", \"naproxen\", \"nitrofurantoin\",\n",
    "    \"nitroglycerin\", \"nortriptyline\", \"omeprazole\", \"ondansetron\", \"oxycodone\", \"pantoprazole\", \"paroxetine\",\n",
    "    \"penicillin\", \"phenobarbital\", \"phenytoin\", \"pioglitazone\", \"pravastatin\", \"prednisone\", \"pregabalin\",\n",
    "    \"propranolol\", \"quetiapine\", \"ranitidine\", \"risperidone\", \"rosuvastatin\", \"sertraline\", \"simvastatin\",\n",
    "    \"sulfamethoxazole\", \"sumatriptan\", \"tamsulosin\", \"temazepam\", \"topiramate\", \"tramadol\", \"trazodone\", \"valacyclovir\",\n",
    "    \"valsartan\", \"venlafaxine\", \"warfarin\", \"zolpidem\"\n",
    "]\n",
    "\n",
    "results = []\n",
    "for i, drug in enumerate(drug_list):\n",
    "    print(f\"[{i+1}/{len(drug_list)}] Fetching: {drug}\")\n",
    "    data = fetch_fda_label_efficacy(drug)\n",
    "    results.append(data)\n",
    "    time.sleep(1)  # Respect OpenFDA rate limits\n",
    "\n",
    "# 💾 Save as JSON\n",
    "with open(\"drug_efficacy_data.json\", \"w\") as f:\n",
    "    json.dump(results, f, indent=2)\n",
    "\n",
    "# 💾 Save as CSV\n",
    "with open(\"drug_efficacy_data.csv\", \"w\", newline='', encoding='utf-8') as f:\n",
    "    fieldnames = [\"drug_name\", \"indications_and_usage\", \"clinical_studies\", \"dosage_and_administration\",\"warnings_and_cautions\",\n",
    "    \"contraindications\",\"pregnancy\",\"pediatric_use\",\"geriatric_use\",\"error\"]\n",
    "    writer = csv.DictWriter(f, fieldnames=fieldnames)\n",
    "    writer.writeheader()\n",
    "    for row in results:\n",
    "        writer.writerow({\n",
    "            \"drug_name\": row.get(\"drug_name\"),\n",
    "            \"indications_and_usage\": row.get(\"indications_and_usage\", \"\"),\n",
    "            \"clinical_studies\": row.get(\"clinical_studies\", \"\"),\n",
    "            \"dosage_and_administration\": row.get(\"dosage_and_administration\", \"\"),\n",
    "            \"warnings_and_cautions\": row.get(\"warnings_and_cautions\", \"\"),\n",
    "            \"contraindications\": row.get(\"contraindications\", \"\"),\n",
    "            \"pregnancy\": row.get(\"pregnancy\", \"\"),\n",
    "            \"pediatric_use\": row.get(\"pediatric_use\", \"\"),\n",
    "            \"geriatric_use\": row.get(\"geriatric_use\", \"\"),\n",
    "            \"error\": row.get(\"error\", \"\")\n",
    "        })\n",
    "\n",
    "print(\"✅ Done! Data saved to drug_efficacy_data.json and drug_efficacy_data.csv\")\n"
   ]
  },
  {
   "cell_type": "code",
   "execution_count": null,
   "id": "ac91c750",
   "metadata": {},
   "outputs": [],
   "source": [
    "import os\n",
    "from dotenv import load_dotenv\n",
    "load_dotenv()"
   ]
  },
  {
   "cell_type": "code",
   "execution_count": null,
   "id": "16382dc3",
   "metadata": {},
   "outputs": [],
   "source": [
    "os.environ[\"GROQ_API_KEY\"] = os.getenv(\"GROQ_API_KEY\")\n",
    "os.environ[\"LANGSMITH_API_KEY\"] = os.getenv(\"LANGSMITH_API_KEY\")\n",
    "os.environ[\"LANGSMITH_PROJECT\"] = os.getenv(\"LANGSMITH_PROJECT\")\n",
    "os.environ[\"LANGSMITH_TRACING_V2\"] = os.getenv(\"LANGSMITH_TRACING_V2\")\n",
    "os.environ[\"LANGSMITH_PROJECT\"] = os.getenv(\"LANGSMITH_PROJECT\")"
   ]
  },
  {
   "cell_type": "code",
   "execution_count": null,
   "id": "4d02347f",
   "metadata": {},
   "outputs": [],
   "source": [
    "##Test Groq Connection\n",
    "from langchain_groq import ChatGroq\n",
    "llm = ChatGroq(\n",
    "    model=\"deepseek-r1-distill-llama-70b\",\n",
    "    temperature=0,\n",
    "    max_tokens=None,\n",
    "    reasoning_format=\"parsed\",\n",
    "    timeout=None,\n",
    "    max_retries=2)\n",
    "    \n"
   ]
  },
  {
   "cell_type": "code",
   "execution_count": null,
   "id": "fa323e3d",
   "metadata": {},
   "outputs": [],
   "source": [
    "from langchain_core.prompts import ChatPromptTemplate\n",
    "prompt = ChatPromptTemplate.from_messages(\n",
    "    [\n",
    "        (\"system\",\"You are a helpful translator that translates from {language1} to {language2}.\",),\n",
    "        (\"human\",\"{input}\"),\n",
    "\n",
    "\n",
    "\n",
    "    ]\n",
    ")"
   ]
  },
  {
   "cell_type": "code",
   "execution_count": null,
   "id": "133a13b6",
   "metadata": {},
   "outputs": [],
   "source": [
    "chain = prompt|llm\n",
    "chain.invoke(\n",
    "    {\n",
    "        \"language1\" : \"English\",\n",
    "        \"language2\" : \"Dutch\",\n",
    "        \"input\" : \"This is trnslation using llm.\",\n",
    "\n",
    "    }\n",
    ")"
   ]
  },
  {
   "cell_type": "markdown",
   "id": "1f7f079c",
   "metadata": {},
   "source": [
    "Creating a Document loader to load the product label json Data"
   ]
  },
  {
   "cell_type": "code",
   "execution_count": null,
   "id": "d2b822ef",
   "metadata": {},
   "outputs": [],
   "source": [
    "from langchain_community.document_loaders import JSONLoader\n",
    "loader=JSONLoader(file_path=\"./drug-label-0013-of-0013.json\",\n",
    "                jq_schema=\".results[]\",\n",
    "                text_content=False\n",
    "                )"
   ]
  },
  {
   "cell_type": "code",
   "execution_count": null,
   "id": "37130743",
   "metadata": {},
   "outputs": [],
   "source": [
    "document = loader.load()"
   ]
  },
  {
   "cell_type": "markdown",
   "id": "6e4c7e2a",
   "metadata": {},
   "source": [
    "Verifying Sample Data"
   ]
  },
  {
   "cell_type": "code",
   "execution_count": null,
   "id": "9e07813b",
   "metadata": {},
   "outputs": [],
   "source": [
    "document[0]"
   ]
  },
  {
   "cell_type": "code",
   "execution_count": null,
   "id": "36ae1014",
   "metadata": {},
   "outputs": [],
   "source": [
    "print(document[0].metadata)"
   ]
  },
  {
   "cell_type": "markdown",
   "id": "53d4b6f6",
   "metadata": {},
   "source": [
    "Now as a next step , splitting the document into multiple  pages using text splitter"
   ]
  },
  {
   "cell_type": "code",
   "execution_count": 63,
   "metadata": {},
   "outputs": [],
   "source": [
    "from langchain_text_splitters import RecursiveCharacterTextSplitter\n",
    "text_splitter = RecursiveCharacterTextSplitter(chunk_size=500, chunk_overlap=50)\n",
    "pages=text_splitter.split_documents(document)"
   ]
  },
  {
   "cell_type": "code",
   "execution_count": 64,
   "id": "4429b758",
   "metadata": {},
   "outputs": [
    {
     "data": {
      "text/plain": [
       "476602"
      ]
     },
     "execution_count": 64,
     "metadata": {},
     "output_type": "execute_result"
    }
   ],
   "source": [
    "len(pages)"
   ]
  },
  {
   "cell_type": "code",
   "execution_count": null,
   "id": "c288660d",
   "metadata": {},
   "outputs": [],
   "source": [
    "os.environ[\"NOMIC_API_KEY\"] = os.getenv(\"NOMIC_API_KEY\")"
   ]
  },
  {
   "cell_type": "code",
   "execution_count": 65,
   "id": "b5240cee",
   "metadata": {},
   "outputs": [],
   "source": [
    "from langchain_nomic import NomicEmbeddings\n",
    "embeddings=NomicEmbeddings(model=\"nomic-embed-text-v1.5\",dimensionality=384)"
   ]
  },
  {
   "cell_type": "code",
   "execution_count": null,
   "id": "0c981732",
   "metadata": {},
   "outputs": [],
   "source": [
    "from pinecone import Pinecone\n"
   ]
  },
  {
   "cell_type": "code",
   "execution_count": null,
   "id": "4bf73b10",
   "metadata": {},
   "outputs": [],
   "source": [
    "os.environ[\"PINECONE_API_KEY\"] = os.getenv(\"PINECONE_API_KEY\")"
   ]
  },
  {
   "cell_type": "code",
   "execution_count": null,
   "id": "7c303b12",
   "metadata": {},
   "outputs": [],
   "source": [
    "pc=Pinecone(api_key=os.getenv(\"PINECONE_API_KEY\"))"
   ]
  },
  {
   "cell_type": "code",
   "execution_count": null,
   "id": "a252fa78",
   "metadata": {},
   "outputs": [],
   "source": [
    "from pinecone import ServerlessSpec"
   ]
  },
  {
   "cell_type": "code",
   "execution_count": 66,
   "id": "32035cf1",
   "metadata": {},
   "outputs": [],
   "source": [
    "index_name =\"medicalqueryasst\"\n",
    "\n",
    "if  pc.has_index(index_name):\n",
    "    pc.delete_index(index_name)\n",
    "    pc.create_index(\n",
    "        name=index_name,\n",
    "        dimension=384,\n",
    "        metric=\"cosine\",\n",
    "        spec=ServerlessSpec(cloud=\"aws\",region=\"us-east-1\") \n",
    ")"
   ]
  },
  {
   "cell_type": "code",
   "execution_count": 67,
   "id": "f632b6d5",
   "metadata": {},
   "outputs": [],
   "source": [
    "index=pc.Index(index_name)"
   ]
  },
  {
   "cell_type": "code",
   "execution_count": 68,
   "id": "259b93bf",
   "metadata": {},
   "outputs": [],
   "source": [
    "from uuid import uuid4\n",
    "uuids = [str(uuid4()) for _ in range(len(pages))]"
   ]
  },
  {
   "cell_type": "code",
   "execution_count": null,
   "id": "15405eb9",
   "metadata": {},
   "outputs": [],
   "source": [
    "\n"
   ]
  },
  {
   "cell_type": "code",
   "execution_count": null,
   "id": "2eaa0431",
   "metadata": {},
   "outputs": [],
   "source": [
    "from langchain_pinecone import PineconeVectorStore"
   ]
  },
  {
   "cell_type": "code",
   "execution_count": 69,
   "id": "a8fde898",
   "metadata": {},
   "outputs": [],
   "source": [
    "vector_store=PineconeVectorStore(index=index,embedding=embeddings)"
   ]
  },
  {
   "cell_type": "code",
   "execution_count": 70,
   "id": "5d12950d",
   "metadata": {},
   "outputs": [
    {
     "ename": "Exception",
     "evalue": "(429, 'Please try your request again later')",
     "output_type": "error",
     "traceback": [
      "\u001b[31m---------------------------------------------------------------------------\u001b[39m",
      "\u001b[31mException\u001b[39m                                 Traceback (most recent call last)",
      "\u001b[36mCell\u001b[39m\u001b[36m \u001b[39m\u001b[32mIn[70]\u001b[39m\u001b[32m, line 1\u001b[39m\n\u001b[32m----> \u001b[39m\u001b[32m1\u001b[39m \u001b[43mvector_store\u001b[49m\u001b[43m.\u001b[49m\u001b[43madd_documents\u001b[49m\u001b[43m(\u001b[49m\u001b[43mdocuments\u001b[49m\u001b[43m=\u001b[49m\u001b[43mpages\u001b[49m\u001b[43m,\u001b[49m\u001b[43m \u001b[49m\u001b[43mids\u001b[49m\u001b[43m=\u001b[49m\u001b[43muuids\u001b[49m\u001b[43m)\u001b[49m\n",
      "\u001b[36mFile \u001b[39m\u001b[32mc:\\Agentic_AI\\Learn\\venv\\Lib\\site-packages\\langchain_core\\vectorstores\\base.py:288\u001b[39m, in \u001b[36mVectorStore.add_documents\u001b[39m\u001b[34m(self, documents, **kwargs)\u001b[39m\n\u001b[32m    286\u001b[39m     texts = [doc.page_content \u001b[38;5;28;01mfor\u001b[39;00m doc \u001b[38;5;129;01min\u001b[39;00m documents]\n\u001b[32m    287\u001b[39m     metadatas = [doc.metadata \u001b[38;5;28;01mfor\u001b[39;00m doc \u001b[38;5;129;01min\u001b[39;00m documents]\n\u001b[32m--> \u001b[39m\u001b[32m288\u001b[39m     \u001b[38;5;28;01mreturn\u001b[39;00m \u001b[38;5;28;43mself\u001b[39;49m\u001b[43m.\u001b[49m\u001b[43madd_texts\u001b[49m\u001b[43m(\u001b[49m\u001b[43mtexts\u001b[49m\u001b[43m,\u001b[49m\u001b[43m \u001b[49m\u001b[43mmetadatas\u001b[49m\u001b[43m,\u001b[49m\u001b[43m \u001b[49m\u001b[43m*\u001b[49m\u001b[43m*\u001b[49m\u001b[43mkwargs\u001b[49m\u001b[43m)\u001b[49m\n\u001b[32m    289\u001b[39m msg = (\n\u001b[32m    290\u001b[39m     \u001b[33mf\u001b[39m\u001b[33m\"\u001b[39m\u001b[33m`add_documents` and `add_texts` has not been implemented \u001b[39m\u001b[33m\"\u001b[39m\n\u001b[32m    291\u001b[39m     \u001b[33mf\u001b[39m\u001b[33m\"\u001b[39m\u001b[33mfor \u001b[39m\u001b[38;5;132;01m{\u001b[39;00m\u001b[38;5;28mself\u001b[39m.\u001b[34m__class__\u001b[39m.\u001b[34m__name__\u001b[39m\u001b[38;5;132;01m}\u001b[39;00m\u001b[33m \u001b[39m\u001b[33m\"\u001b[39m\n\u001b[32m    292\u001b[39m )\n\u001b[32m    293\u001b[39m \u001b[38;5;28;01mraise\u001b[39;00m \u001b[38;5;167;01mNotImplementedError\u001b[39;00m(msg)\n",
      "\u001b[36mFile \u001b[39m\u001b[32mc:\\Agentic_AI\\Learn\\venv\\Lib\\site-packages\\langchain_pinecone\\vectorstores.py:319\u001b[39m, in \u001b[36mPineconeVectorStore.add_texts\u001b[39m\u001b[34m(self, texts, metadatas, ids, namespace, batch_size, embedding_chunk_size, id_prefix, **kwargs)\u001b[39m\n\u001b[32m    317\u001b[39m chunk_ids = ids[i : i + embedding_chunk_size]\n\u001b[32m    318\u001b[39m chunk_metadatas = metadatas[i : i + embedding_chunk_size]\n\u001b[32m--> \u001b[39m\u001b[32m319\u001b[39m embeddings = \u001b[38;5;28;43mself\u001b[39;49m\u001b[43m.\u001b[49m\u001b[43m_embedding\u001b[49m\u001b[43m.\u001b[49m\u001b[43membed_documents\u001b[49m\u001b[43m(\u001b[49m\u001b[43mchunk_texts\u001b[49m\u001b[43m)\u001b[49m\n\u001b[32m    320\u001b[39m vector_tuples = \u001b[38;5;28mlist\u001b[39m(\u001b[38;5;28mzip\u001b[39m(chunk_ids, embeddings, chunk_metadatas))\n\u001b[32m    321\u001b[39m \u001b[38;5;28mself\u001b[39m.index.upsert(\n\u001b[32m    322\u001b[39m     vectors=vector_tuples,\n\u001b[32m    323\u001b[39m     namespace=namespace,\n\u001b[32m    324\u001b[39m     **kwargs,\n\u001b[32m    325\u001b[39m )\n",
      "\u001b[36mFile \u001b[39m\u001b[32mc:\\Agentic_AI\\Learn\\venv\\Lib\\site-packages\\langchain_nomic\\embeddings.py:114\u001b[39m, in \u001b[36mNomicEmbeddings.embed_documents\u001b[39m\u001b[34m(self, texts)\u001b[39m\n\u001b[32m    108\u001b[39m \u001b[38;5;28;01mdef\u001b[39;00m\u001b[38;5;250m \u001b[39m\u001b[34membed_documents\u001b[39m(\u001b[38;5;28mself\u001b[39m, texts: List[\u001b[38;5;28mstr\u001b[39m]) -> List[List[\u001b[38;5;28mfloat\u001b[39m]]:\n\u001b[32m    109\u001b[39m \u001b[38;5;250m    \u001b[39m\u001b[33;03m\"\"\"Embed search docs.\u001b[39;00m\n\u001b[32m    110\u001b[39m \n\u001b[32m    111\u001b[39m \u001b[33;03m    Args:\u001b[39;00m\n\u001b[32m    112\u001b[39m \u001b[33;03m        texts: list of texts to embed as documents\u001b[39;00m\n\u001b[32m    113\u001b[39m \u001b[33;03m    \"\"\"\u001b[39;00m\n\u001b[32m--> \u001b[39m\u001b[32m114\u001b[39m     \u001b[38;5;28;01mreturn\u001b[39;00m \u001b[38;5;28;43mself\u001b[39;49m\u001b[43m.\u001b[49m\u001b[43membed\u001b[49m\u001b[43m(\u001b[49m\n\u001b[32m    115\u001b[39m \u001b[43m        \u001b[49m\u001b[43mtexts\u001b[49m\u001b[43m=\u001b[49m\u001b[43mtexts\u001b[49m\u001b[43m,\u001b[49m\n\u001b[32m    116\u001b[39m \u001b[43m        \u001b[49m\u001b[43mtask_type\u001b[49m\u001b[43m=\u001b[49m\u001b[33;43m\"\u001b[39;49m\u001b[33;43msearch_document\u001b[39;49m\u001b[33;43m\"\u001b[39;49m\u001b[43m,\u001b[49m\n\u001b[32m    117\u001b[39m \u001b[43m    \u001b[49m\u001b[43m)\u001b[49m\n",
      "\u001b[36mFile \u001b[39m\u001b[32mc:\\Agentic_AI\\Learn\\venv\\Lib\\site-packages\\langchain_nomic\\embeddings.py:98\u001b[39m, in \u001b[36mNomicEmbeddings.embed\u001b[39m\u001b[34m(self, texts, task_type)\u001b[39m\n\u001b[32m     89\u001b[39m \u001b[38;5;28;01mdef\u001b[39;00m\u001b[38;5;250m \u001b[39m\u001b[34membed\u001b[39m(\u001b[38;5;28mself\u001b[39m, texts: List[\u001b[38;5;28mstr\u001b[39m], *, task_type: \u001b[38;5;28mstr\u001b[39m) -> List[List[\u001b[38;5;28mfloat\u001b[39m]]:\n\u001b[32m     90\u001b[39m \u001b[38;5;250m    \u001b[39m\u001b[33;03m\"\"\"Embed texts.\u001b[39;00m\n\u001b[32m     91\u001b[39m \n\u001b[32m     92\u001b[39m \u001b[33;03m    Args:\u001b[39;00m\n\u001b[32m   (...)\u001b[39m\u001b[32m     95\u001b[39m \u001b[33;03m            `search_document`, `classification`, `clustering`\u001b[39;00m\n\u001b[32m     96\u001b[39m \u001b[33;03m    \"\"\"\u001b[39;00m\n\u001b[32m---> \u001b[39m\u001b[32m98\u001b[39m     output = \u001b[43membed\u001b[49m\u001b[43m.\u001b[49m\u001b[43mtext\u001b[49m\u001b[43m(\u001b[49m\n\u001b[32m     99\u001b[39m \u001b[43m        \u001b[49m\u001b[43mtexts\u001b[49m\u001b[43m=\u001b[49m\u001b[43mtexts\u001b[49m\u001b[43m,\u001b[49m\n\u001b[32m    100\u001b[39m \u001b[43m        \u001b[49m\u001b[43mmodel\u001b[49m\u001b[43m=\u001b[49m\u001b[38;5;28;43mself\u001b[39;49m\u001b[43m.\u001b[49m\u001b[43mmodel\u001b[49m\u001b[43m,\u001b[49m\n\u001b[32m    101\u001b[39m \u001b[43m        \u001b[49m\u001b[43mtask_type\u001b[49m\u001b[43m=\u001b[49m\u001b[43mtask_type\u001b[49m\u001b[43m,\u001b[49m\n\u001b[32m    102\u001b[39m \u001b[43m        \u001b[49m\u001b[43mdimensionality\u001b[49m\u001b[43m=\u001b[49m\u001b[38;5;28;43mself\u001b[39;49m\u001b[43m.\u001b[49m\u001b[43mdimensionality\u001b[49m\u001b[43m,\u001b[49m\n\u001b[32m    103\u001b[39m \u001b[43m        \u001b[49m\u001b[43minference_mode\u001b[49m\u001b[43m=\u001b[49m\u001b[38;5;28;43mself\u001b[39;49m\u001b[43m.\u001b[49m\u001b[43minference_mode\u001b[49m\u001b[43m,\u001b[49m\n\u001b[32m    104\u001b[39m \u001b[43m        \u001b[49m\u001b[43mdevice\u001b[49m\u001b[43m=\u001b[49m\u001b[38;5;28;43mself\u001b[39;49m\u001b[43m.\u001b[49m\u001b[43mdevice\u001b[49m\u001b[43m,\u001b[49m\n\u001b[32m    105\u001b[39m \u001b[43m    \u001b[49m\u001b[43m)\u001b[49m\n\u001b[32m    106\u001b[39m     \u001b[38;5;28;01mreturn\u001b[39;00m output[\u001b[33m\"\u001b[39m\u001b[33membeddings\u001b[39m\u001b[33m\"\u001b[39m]\n",
      "\u001b[36mFile \u001b[39m\u001b[32mc:\\Agentic_AI\\Learn\\venv\\Lib\\site-packages\\nomic\\embed.py:206\u001b[39m, in \u001b[36mtext\u001b[39m\u001b[34m(texts, model, task_type, dimensionality, long_text_mode, inference_mode, device, **kwargs)\u001b[39m\n\u001b[32m    203\u001b[39m     \u001b[38;5;28;01mexcept\u001b[39;00m CancellationError:\n\u001b[32m    204\u001b[39m         \u001b[38;5;28;01mpass\u001b[39;00m  \u001b[38;5;66;03m# dynamic mode chose to use Atlas, fall through\u001b[39;00m\n\u001b[32m--> \u001b[39m\u001b[32m206\u001b[39m \u001b[38;5;28;01mreturn\u001b[39;00m \u001b[43m_text_atlas\u001b[49m\u001b[43m(\u001b[49m\u001b[43mtexts\u001b[49m\u001b[43m,\u001b[49m\u001b[43m \u001b[49m\u001b[43mmodel\u001b[49m\u001b[43m,\u001b[49m\u001b[43m \u001b[49m\u001b[43mtask_type\u001b[49m\u001b[43m,\u001b[49m\u001b[43m \u001b[49m\u001b[43mdimensionality\u001b[49m\u001b[43m,\u001b[49m\u001b[43m \u001b[49m\u001b[43mlong_text_mode\u001b[49m\u001b[43m)\u001b[49m\n",
      "\u001b[36mFile \u001b[39m\u001b[32mc:\\Agentic_AI\\Learn\\venv\\Lib\\site-packages\\nomic\\embed.py:246\u001b[39m, in \u001b[36m_text_atlas\u001b[39m\u001b[34m(texts, model, task_type, dimensionality, long_text_mode)\u001b[39m\n\u001b[32m    243\u001b[39m     futures.append(executor.submit(text_api_request, chunk, model, task_type, dimensionality, long_text_mode))\n\u001b[32m    245\u001b[39m \u001b[38;5;28;01mfor\u001b[39;00m future \u001b[38;5;129;01min\u001b[39;00m futures:\n\u001b[32m--> \u001b[39m\u001b[32m246\u001b[39m     response = \u001b[43mfuture\u001b[49m\u001b[43m.\u001b[49m\u001b[43mresult\u001b[49m\u001b[43m(\u001b[49m\u001b[43m)\u001b[49m\n\u001b[32m    247\u001b[39m     \u001b[38;5;28;01massert\u001b[39;00m response[\u001b[33m\"\u001b[39m\u001b[33mmodel\u001b[39m\u001b[33m\"\u001b[39m] == model\n\u001b[32m    248\u001b[39m     combined[\u001b[33m\"\u001b[39m\u001b[33membeddings\u001b[39m\u001b[33m\"\u001b[39m] += response[\u001b[33m\"\u001b[39m\u001b[33membeddings\u001b[39m\u001b[33m\"\u001b[39m]\n",
      "\u001b[36mFile \u001b[39m\u001b[32mc:\\Agentic_AI\\Learn\\venv\\Lib\\concurrent\\futures\\_base.py:456\u001b[39m, in \u001b[36mFuture.result\u001b[39m\u001b[34m(self, timeout)\u001b[39m\n\u001b[32m    454\u001b[39m     \u001b[38;5;28;01mraise\u001b[39;00m CancelledError()\n\u001b[32m    455\u001b[39m \u001b[38;5;28;01melif\u001b[39;00m \u001b[38;5;28mself\u001b[39m._state == FINISHED:\n\u001b[32m--> \u001b[39m\u001b[32m456\u001b[39m     \u001b[38;5;28;01mreturn\u001b[39;00m \u001b[38;5;28;43mself\u001b[39;49m\u001b[43m.\u001b[49m\u001b[43m__get_result\u001b[49m\u001b[43m(\u001b[49m\u001b[43m)\u001b[49m\n\u001b[32m    457\u001b[39m \u001b[38;5;28;01melse\u001b[39;00m:\n\u001b[32m    458\u001b[39m     \u001b[38;5;28;01mraise\u001b[39;00m \u001b[38;5;167;01mTimeoutError\u001b[39;00m()\n",
      "\u001b[36mFile \u001b[39m\u001b[32mc:\\Agentic_AI\\Learn\\venv\\Lib\\concurrent\\futures\\_base.py:401\u001b[39m, in \u001b[36mFuture.__get_result\u001b[39m\u001b[34m(self)\u001b[39m\n\u001b[32m    399\u001b[39m \u001b[38;5;28;01mif\u001b[39;00m \u001b[38;5;28mself\u001b[39m._exception:\n\u001b[32m    400\u001b[39m     \u001b[38;5;28;01mtry\u001b[39;00m:\n\u001b[32m--> \u001b[39m\u001b[32m401\u001b[39m         \u001b[38;5;28;01mraise\u001b[39;00m \u001b[38;5;28mself\u001b[39m._exception\n\u001b[32m    402\u001b[39m     \u001b[38;5;28;01mfinally\u001b[39;00m:\n\u001b[32m    403\u001b[39m         \u001b[38;5;66;03m# Break a reference cycle with the exception in self._exception\u001b[39;00m\n\u001b[32m    404\u001b[39m         \u001b[38;5;28mself\u001b[39m = \u001b[38;5;28;01mNone\u001b[39;00m\n",
      "\u001b[36mFile \u001b[39m\u001b[32mc:\\Agentic_AI\\Learn\\venv\\Lib\\concurrent\\futures\\thread.py:58\u001b[39m, in \u001b[36m_WorkItem.run\u001b[39m\u001b[34m(self)\u001b[39m\n\u001b[32m     55\u001b[39m     \u001b[38;5;28;01mreturn\u001b[39;00m\n\u001b[32m     57\u001b[39m \u001b[38;5;28;01mtry\u001b[39;00m:\n\u001b[32m---> \u001b[39m\u001b[32m58\u001b[39m     result = \u001b[38;5;28;43mself\u001b[39;49m\u001b[43m.\u001b[49m\u001b[43mfn\u001b[49m\u001b[43m(\u001b[49m\u001b[43m*\u001b[49m\u001b[38;5;28;43mself\u001b[39;49m\u001b[43m.\u001b[49m\u001b[43margs\u001b[49m\u001b[43m,\u001b[49m\u001b[43m \u001b[49m\u001b[43m*\u001b[49m\u001b[43m*\u001b[49m\u001b[38;5;28;43mself\u001b[39;49m\u001b[43m.\u001b[49m\u001b[43mkwargs\u001b[49m\u001b[43m)\u001b[49m\n\u001b[32m     59\u001b[39m \u001b[38;5;28;01mexcept\u001b[39;00m \u001b[38;5;167;01mBaseException\u001b[39;00m \u001b[38;5;28;01mas\u001b[39;00m exc:\n\u001b[32m     60\u001b[39m     \u001b[38;5;28mself\u001b[39m.future.set_exception(exc)\n",
      "\u001b[36mFile \u001b[39m\u001b[32mc:\\Agentic_AI\\Learn\\venv\\Lib\\site-packages\\nomic\\embed.py:94\u001b[39m, in \u001b[36mtext_api_request\u001b[39m\u001b[34m(texts, model, task_type, dimensionality, long_text_mode)\u001b[39m\n\u001b[32m     92\u001b[39m     \u001b[38;5;28;01mreturn\u001b[39;00m response.json()\n\u001b[32m     93\u001b[39m \u001b[38;5;28;01melse\u001b[39;00m:\n\u001b[32m---> \u001b[39m\u001b[32m94\u001b[39m     \u001b[38;5;28;01mraise\u001b[39;00m \u001b[38;5;167;01mException\u001b[39;00m((response.status_code, response.text))\n",
      "\u001b[31mException\u001b[39m: (429, 'Please try your request again later')"
     ]
    }
   ],
   "source": [
    "vector_store.add_documents(documents=pages, ids=uuids)"
   ]
  },
  {
   "cell_type": "code",
   "execution_count": null,
   "id": "4537e88a",
   "metadata": {},
   "outputs": [],
   "source": []
  },
  {
   "cell_type": "code",
   "execution_count": null,
   "id": "d52f0998",
   "metadata": {},
   "outputs": [],
   "source": []
  },
  {
   "cell_type": "code",
   "execution_count": null,
   "id": "c03bf0d8",
   "metadata": {},
   "outputs": [],
   "source": []
  },
  {
   "cell_type": "code",
   "execution_count": null,
   "id": "61c50c9e",
   "metadata": {},
   "outputs": [],
   "source": []
  },
  {
   "cell_type": "code",
   "execution_count": null,
   "id": "b1e00179",
   "metadata": {},
   "outputs": [],
   "source": []
  },
  {
   "cell_type": "code",
   "execution_count": null,
   "id": "1a8c5177",
   "metadata": {},
   "outputs": [],
   "source": []
  },
  {
   "cell_type": "code",
   "execution_count": null,
   "id": "98965b1c",
   "metadata": {},
   "outputs": [],
   "source": []
  },
  {
   "cell_type": "code",
   "execution_count": null,
   "id": "1e580ec8",
   "metadata": {},
   "outputs": [],
   "source": []
  },
  {
   "cell_type": "code",
   "execution_count": null,
   "id": "267434bc",
   "metadata": {},
   "outputs": [],
   "source": []
  },
  {
   "cell_type": "code",
   "execution_count": null,
   "id": "ad53e56f",
   "metadata": {},
   "outputs": [],
   "source": []
  },
  {
   "cell_type": "code",
   "execution_count": null,
   "id": "587a9945",
   "metadata": {},
   "outputs": [],
   "source": []
  },
  {
   "cell_type": "code",
   "execution_count": null,
   "id": "d081ae4d",
   "metadata": {},
   "outputs": [],
   "source": []
  },
  {
   "cell_type": "code",
   "execution_count": null,
   "id": "3e88f8f7",
   "metadata": {},
   "outputs": [],
   "source": []
  },
  {
   "cell_type": "code",
   "execution_count": null,
   "id": "647f1436",
   "metadata": {},
   "outputs": [],
   "source": []
  },
  {
   "cell_type": "code",
   "execution_count": null,
   "metadata": {},
   "outputs": [],
   "source": []
  },
  {
   "cell_type": "code",
   "execution_count": null,
   "id": "c3ff5e49",
   "metadata": {},
   "outputs": [],
   "source": []
  },
  {
   "cell_type": "code",
   "execution_count": null,
   "id": "d2b4282b",
   "metadata": {},
   "outputs": [],
   "source": []
  },
  {
   "cell_type": "code",
   "execution_count": null,
   "id": "202132c2",
   "metadata": {},
   "outputs": [],
   "source": []
  },
  {
   "cell_type": "code",
   "execution_count": null,
   "id": "7df8600a",
   "metadata": {},
   "outputs": [],
   "source": []
  }
 ],
 "metadata": {
  "kernelspec": {
   "display_name": "Python 3",
   "language": "python",
   "name": "python3"
  },
  "language_info": {
   "codemirror_mode": {
    "name": "ipython",
    "version": 3
   },
   "file_extension": ".py",
   "mimetype": "text/x-python",
   "name": "python",
   "nbconvert_exporter": "python",
   "pygments_lexer": "ipython3",
   "version": "3.12.0"
  }
 },
 "nbformat": 4,
 "nbformat_minor": 5
}
